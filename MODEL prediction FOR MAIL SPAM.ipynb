{
 "cells": [
  {
   "cell_type": "code",
   "execution_count": 1,
   "id": "3ac8c2e0",
   "metadata": {},
   "outputs": [],
   "source": [
    "import pandas as pd # for data manipulations\n",
    "import seaborn as sns # for data visualization\n",
    "import matplotlib.pyplot as plt # for data visualization\n",
    "import numpy as np # algebraic\n",
    "from sklearn.model_selection import train_test_split\n",
    "from sklearn.metrics import accuracy_score # for model's performance evaluation\n",
    "from sklearn.feature_extraction.text import TfidfVectorizer # used for text preprocessing\n",
    "from sklearn.linear_model import LogisticRegression # machine learning algorithm  for binary classification tasks\n",
    "from sklearn import svm # machine learning algorithm  for both regression and classification tasks\n",
    "from sklearn.tree import DecisionTreeClassifier # algorithm for solving binary classification problem in data science\n",
    "from sklearn.metrics import precision_score  # for model's performance evaluation\n",
    "from sklearn.metrics import recall_score # for model's performance evaluation"
   ]
  },
  {
   "cell_type": "code",
   "execution_count": 2,
   "id": "bd134861",
   "metadata": {},
   "outputs": [
    {
     "data": {
      "text/plain": [
       "'/Users/macbook/Desktop/Data Science'"
      ]
     },
     "execution_count": 2,
     "metadata": {},
     "output_type": "execute_result"
    }
   ],
   "source": [
    "pwd"
   ]
  },
  {
   "cell_type": "code",
   "execution_count": 3,
   "id": "7a2f0e58",
   "metadata": {},
   "outputs": [],
   "source": [
    "# loading the email dataset into a variable name  (data)\n",
    "mail_data =pd.read_csv('/Users/macbook/Downloads/mail_csv')"
   ]
  },
  {
   "cell_type": "code",
   "execution_count": 4,
   "id": "49461f42",
   "metadata": {},
   "outputs": [
    {
     "data": {
      "text/html": [
       "<div>\n",
       "<style scoped>\n",
       "    .dataframe tbody tr th:only-of-type {\n",
       "        vertical-align: middle;\n",
       "    }\n",
       "\n",
       "    .dataframe tbody tr th {\n",
       "        vertical-align: top;\n",
       "    }\n",
       "\n",
       "    .dataframe thead th {\n",
       "        text-align: right;\n",
       "    }\n",
       "</style>\n",
       "<table border=\"1\" class=\"dataframe\">\n",
       "  <thead>\n",
       "    <tr style=\"text-align: right;\">\n",
       "      <th></th>\n",
       "      <th>Category</th>\n",
       "      <th>Message</th>\n",
       "    </tr>\n",
       "  </thead>\n",
       "  <tbody>\n",
       "    <tr>\n",
       "      <th>0</th>\n",
       "      <td>ham</td>\n",
       "      <td>Go until jurong point, crazy.. Available only ...</td>\n",
       "    </tr>\n",
       "    <tr>\n",
       "      <th>1</th>\n",
       "      <td>ham</td>\n",
       "      <td>Ok lar... Joking wif u oni...</td>\n",
       "    </tr>\n",
       "    <tr>\n",
       "      <th>2</th>\n",
       "      <td>spam</td>\n",
       "      <td>Free entry in 2 a wkly comp to win FA Cup fina...</td>\n",
       "    </tr>\n",
       "    <tr>\n",
       "      <th>3</th>\n",
       "      <td>ham</td>\n",
       "      <td>U dun say so early hor... U c already then say...</td>\n",
       "    </tr>\n",
       "    <tr>\n",
       "      <th>4</th>\n",
       "      <td>ham</td>\n",
       "      <td>Nah I don't think he goes to usf, he lives aro...</td>\n",
       "    </tr>\n",
       "    <tr>\n",
       "      <th>...</th>\n",
       "      <td>...</td>\n",
       "      <td>...</td>\n",
       "    </tr>\n",
       "    <tr>\n",
       "      <th>5567</th>\n",
       "      <td>spam</td>\n",
       "      <td>This is the 2nd time we have tried 2 contact u...</td>\n",
       "    </tr>\n",
       "    <tr>\n",
       "      <th>5568</th>\n",
       "      <td>ham</td>\n",
       "      <td>Will ü b going to esplanade fr home?</td>\n",
       "    </tr>\n",
       "    <tr>\n",
       "      <th>5569</th>\n",
       "      <td>ham</td>\n",
       "      <td>Pity, * was in mood for that. So...any other s...</td>\n",
       "    </tr>\n",
       "    <tr>\n",
       "      <th>5570</th>\n",
       "      <td>ham</td>\n",
       "      <td>The guy did some bitching but I acted like i'd...</td>\n",
       "    </tr>\n",
       "    <tr>\n",
       "      <th>5571</th>\n",
       "      <td>ham</td>\n",
       "      <td>Rofl. Its true to its name</td>\n",
       "    </tr>\n",
       "  </tbody>\n",
       "</table>\n",
       "<p>5572 rows × 2 columns</p>\n",
       "</div>"
      ],
      "text/plain": [
       "     Category                                            Message\n",
       "0         ham  Go until jurong point, crazy.. Available only ...\n",
       "1         ham                      Ok lar... Joking wif u oni...\n",
       "2        spam  Free entry in 2 a wkly comp to win FA Cup fina...\n",
       "3         ham  U dun say so early hor... U c already then say...\n",
       "4         ham  Nah I don't think he goes to usf, he lives aro...\n",
       "...       ...                                                ...\n",
       "5567     spam  This is the 2nd time we have tried 2 contact u...\n",
       "5568      ham               Will ü b going to esplanade fr home?\n",
       "5569      ham  Pity, * was in mood for that. So...any other s...\n",
       "5570      ham  The guy did some bitching but I acted like i'd...\n",
       "5571      ham                         Rofl. Its true to its name\n",
       "\n",
       "[5572 rows x 2 columns]"
      ]
     },
     "execution_count": 4,
     "metadata": {},
     "output_type": "execute_result"
    }
   ],
   "source": [
    "# viewing the loaded dataset\n",
    "mail_data"
   ]
  },
  {
   "cell_type": "code",
   "execution_count": 5,
   "id": "c7c1a5ca",
   "metadata": {},
   "outputs": [
    {
     "data": {
      "text/plain": [
       "(5572, 2)"
      ]
     },
     "execution_count": 5,
     "metadata": {},
     "output_type": "execute_result"
    }
   ],
   "source": [
    "# let's find out how many rows and columns that we have in the dataset\n",
    "mail_data.shape"
   ]
  },
  {
   "cell_type": "markdown",
   "id": "7444967c",
   "metadata": {},
   "source": [
    "The email dataset comprises of two columns only. The category and message columns."
   ]
  },
  {
   "cell_type": "code",
   "execution_count": 6,
   "id": "deba5f20",
   "metadata": {},
   "outputs": [
    {
     "data": {
      "text/plain": [
       "0"
      ]
     },
     "execution_count": 6,
     "metadata": {},
     "output_type": "execute_result"
    }
   ],
   "source": [
    "# let's check if there are missing values within the dataset\n",
    "mail_data.isnull().sum().sum()"
   ]
  },
  {
   "cell_type": "code",
   "execution_count": 7,
   "id": "a9a31fa9",
   "metadata": {},
   "outputs": [
    {
     "data": {
      "text/plain": [
       "0"
      ]
     },
     "execution_count": 7,
     "metadata": {},
     "output_type": "execute_result"
    }
   ],
   "source": [
    "# let's check for missing values in each of the columns specifically.\n",
    "\n",
    "# First the category column\n",
    "mail_data['Category'].isnull().sum()"
   ]
  },
  {
   "cell_type": "code",
   "execution_count": 8,
   "id": "1505fb25",
   "metadata": {},
   "outputs": [
    {
     "data": {
      "text/plain": [
       "0"
      ]
     },
     "execution_count": 8,
     "metadata": {},
     "output_type": "execute_result"
    }
   ],
   "source": [
    "# The message column\n",
    "mail_data['Message'].isnull().sum()"
   ]
  },
  {
   "cell_type": "markdown",
   "id": "3bbba229",
   "metadata": {},
   "source": [
    "## EDA: Let's Carryout Exploratory Data Analysis"
   ]
  },
  {
   "cell_type": "code",
   "execution_count": 9,
   "id": "ce473bcc",
   "metadata": {},
   "outputs": [
    {
     "data": {
      "text/plain": [
       "Category\n",
       "ham     4825\n",
       "spam     747\n",
       "Name: Category, dtype: int64"
      ]
     },
     "execution_count": 9,
     "metadata": {},
     "output_type": "execute_result"
    }
   ],
   "source": [
    "# let's check how many ham and spam mail exists in the dataset\n",
    "mail_data.groupby('Category')['Category'].count()"
   ]
  },
  {
   "cell_type": "code",
   "execution_count": 10,
   "id": "b6ad80c9",
   "metadata": {},
   "outputs": [
    {
     "data": {
      "image/png": "[encoded data removed]",
      "text/plain": [
       "<Figure size 640x480 with 1 Axes>"
      ]
     },
     "metadata": {},
     "output_type": "display_data"
    }
   ],
   "source": [
    "# Let's visualize the result using countplot()\n",
    "sns.set_style('ticks')\n",
    "sns.countplot(x='Category', data=mail_data, width=0.7, palette='viridis', hue='Category')\n",
    "plt.title('HAM vs SPAM Mails')\n",
    "plt.show()"
   ]
  },
  {
   "cell_type": "markdown",
   "id": "88b4f88e",
   "metadata": {},
   "source": [
    "The chart above displays the total number of ham mail vs the spam mail.\n",
    "The ham mail in the dataset is 4825 and \n",
    "the spam mail is 747 as clearly illustrated in the countplot above.\n"
   ]
  },
  {
   "cell_type": "markdown",
   "id": "a68d08f4",
   "metadata": {},
   "source": [
    "Data Preprocessing\n",
    "\n",
    "Since machine learning algorithm do not accept string data,\n",
    "we will convert the Category column into numerical values using lmapping technique."
   ]
  },
  {
   "cell_type": "code",
   "execution_count": 11,
   "id": "13aebdf4",
   "metadata": {},
   "outputs": [],
   "source": [
    "# Converting the category column to numerical values using lmapping technique: ham==>>1 and spam==>0\n",
    "mapping = {\"ham\": 1, \"spam\": 0}\n",
    "# Convert categorical string values to numeric values using map() function\n",
    "mail_data[\"Category\"] = mail_data[\"Category\"].map(mapping)"
   ]
  },
  {
   "cell_type": "code",
   "execution_count": 58,
   "id": "e8956d14",
   "metadata": {},
   "outputs": [
    {
     "data": {
      "text/html": [
       "<div>\n",
       "<style scoped>\n",
       "    .dataframe tbody tr th:only-of-type {\n",
       "        vertical-align: middle;\n",
       "    }\n",
       "\n",
       "    .dataframe tbody tr th {\n",
       "        vertical-align: top;\n",
       "    }\n",
       "\n",
       "    .dataframe thead th {\n",
       "        text-align: right;\n",
       "    }\n",
       "</style>\n",
       "<table border=\"1\" class=\"dataframe\">\n",
       "  <thead>\n",
       "    <tr style=\"text-align: right;\">\n",
       "      <th></th>\n",
       "      <th>Category</th>\n",
       "      <th>Message</th>\n",
       "      <th>category_0</th>\n",
       "      <th>category_1</th>\n",
       "    </tr>\n",
       "  </thead>\n",
       "  <tbody>\n",
       "    <tr>\n",
       "      <th>0</th>\n",
       "      <td>1</td>\n",
       "      <td>Go until jurong point, crazy.. Available only ...</td>\n",
       "      <td>False</td>\n",
       "      <td>True</td>\n",
       "    </tr>\n",
       "    <tr>\n",
       "      <th>1</th>\n",
       "      <td>1</td>\n",
       "      <td>Ok lar... Joking wif u oni...</td>\n",
       "      <td>False</td>\n",
       "      <td>True</td>\n",
       "    </tr>\n",
       "    <tr>\n",
       "      <th>2</th>\n",
       "      <td>0</td>\n",
       "      <td>Free entry in 2 a wkly comp to win FA Cup fina...</td>\n",
       "      <td>True</td>\n",
       "      <td>False</td>\n",
       "    </tr>\n",
       "    <tr>\n",
       "      <th>3</th>\n",
       "      <td>1</td>\n",
       "      <td>U dun say so early hor... U c already then say...</td>\n",
       "      <td>False</td>\n",
       "      <td>True</td>\n",
       "    </tr>\n",
       "    <tr>\n",
       "      <th>4</th>\n",
       "      <td>1</td>\n",
       "      <td>Nah I don't think he goes to usf, he lives aro...</td>\n",
       "      <td>False</td>\n",
       "      <td>True</td>\n",
       "    </tr>\n",
       "    <tr>\n",
       "      <th>...</th>\n",
       "      <td>...</td>\n",
       "      <td>...</td>\n",
       "      <td>...</td>\n",
       "      <td>...</td>\n",
       "    </tr>\n",
       "    <tr>\n",
       "      <th>5567</th>\n",
       "      <td>0</td>\n",
       "      <td>This is the 2nd time we have tried 2 contact u...</td>\n",
       "      <td>True</td>\n",
       "      <td>False</td>\n",
       "    </tr>\n",
       "    <tr>\n",
       "      <th>5568</th>\n",
       "      <td>1</td>\n",
       "      <td>Will ü b going to esplanade fr home?</td>\n",
       "      <td>False</td>\n",
       "      <td>True</td>\n",
       "    </tr>\n",
       "    <tr>\n",
       "      <th>5569</th>\n",
       "      <td>1</td>\n",
       "      <td>Pity, * was in mood for that. So...any other s...</td>\n",
       "      <td>False</td>\n",
       "      <td>True</td>\n",
       "    </tr>\n",
       "    <tr>\n",
       "      <th>5570</th>\n",
       "      <td>1</td>\n",
       "      <td>The guy did some bitching but I acted like i'd...</td>\n",
       "      <td>False</td>\n",
       "      <td>True</td>\n",
       "    </tr>\n",
       "    <tr>\n",
       "      <th>5571</th>\n",
       "      <td>1</td>\n",
       "      <td>Rofl. Its true to its name</td>\n",
       "      <td>False</td>\n",
       "      <td>True</td>\n",
       "    </tr>\n",
       "  </tbody>\n",
       "</table>\n",
       "<p>5572 rows × 4 columns</p>\n",
       "</div>"
      ],
      "text/plain": [
       "      Category                                            Message  category_0  \\\n",
       "0            1  Go until jurong point, crazy.. Available only ...       False   \n",
       "1            1                      Ok lar... Joking wif u oni...       False   \n",
       "2            0  Free entry in 2 a wkly comp to win FA Cup fina...        True   \n",
       "3            1  U dun say so early hor... U c already then say...       False   \n",
       "4            1  Nah I don't think he goes to usf, he lives aro...       False   \n",
       "...        ...                                                ...         ...   \n",
       "5567         0  This is the 2nd time we have tried 2 contact u...        True   \n",
       "5568         1               Will ü b going to esplanade fr home?       False   \n",
       "5569         1  Pity, * was in mood for that. So...any other s...       False   \n",
       "5570         1  The guy did some bitching but I acted like i'd...       False   \n",
       "5571         1                         Rofl. Its true to its name       False   \n",
       "\n",
       "      category_1  \n",
       "0           True  \n",
       "1           True  \n",
       "2          False  \n",
       "3           True  \n",
       "4           True  \n",
       "...          ...  \n",
       "5567       False  \n",
       "5568        True  \n",
       "5569        True  \n",
       "5570        True  \n",
       "5571        True  \n",
       "\n",
       "[5572 rows x 4 columns]"
      ]
     },
     "execution_count": 58,
     "metadata": {},
     "output_type": "execute_result"
    }
   ],
   "source": [
    "mail_data"
   ]
  },
  {
   "cell_type": "code",
   "execution_count": null,
   "id": "8ce47454",
   "metadata": {},
   "outputs": [],
   "source": [
    "## Converting the category column to numerical values using Label Encoding\n",
    "from sklearn.preprocessing import LabelEncoder\n",
    "label_encoder = LabelEncoder()\n",
    "mail_data['Category'] = label_encoder.fit_transform(mail_data['Category'])"
   ]
  },
  {
   "cell_type": "code",
   "execution_count": 57,
   "id": "25b5ade9",
   "metadata": {},
   "outputs": [],
   "source": [
    "## Converting the category column to numerical values using One-Hot Encoding: \n",
    "one_hot_encoded = pd.get_dummies(mail_data['Category'], prefix='category')\n",
    "mail_data = pd.concat([mail_data, one_hot_encoded], axis=1)\n"
   ]
  },
  {
   "cell_type": "code",
   "execution_count": null,
   "id": "c63d91ae",
   "metadata": {},
   "outputs": [],
   "source": [
    "## Converting the category column to numerical values using hashing: \n",
    "\n",
    "from sklearn.feature_extraction import FeatureHasher\n",
    "\n",
    "hasher = FeatureHasher(n_features=1, input_type='string')\n",
    "hashed_features = hasher.fit_transform(mail_data['Category'])\n"
   ]
  },
  {
   "cell_type": "markdown",
   "id": "2f8a6b32",
   "metadata": {},
   "source": [
    "We have successfully converted the category column into binary values (1 for ham mail and 0 for spam mail)\n",
    "\n"
   ]
  },
  {
   "cell_type": "code",
   "execution_count": null,
   "id": "156bb89d",
   "metadata": {},
   "outputs": [],
   "source": []
  },
  {
   "cell_type": "code",
   "execution_count": 14,
   "id": "cb984273",
   "metadata": {},
   "outputs": [],
   "source": [
    "# Now let's separate the dataset into label and text\n",
    "x= mail_data['Message']\n",
    "y= mail_data['Category']"
   ]
  },
  {
   "cell_type": "code",
   "execution_count": 15,
   "id": "e9a9cb2c",
   "metadata": {},
   "outputs": [
    {
     "name": "stdout",
     "output_type": "stream",
     "text": [
      "0       Go until jurong point, crazy.. Available only ...\n",
      "1                           Ok lar... Joking wif u oni...\n",
      "2       Free entry in 2 a wkly comp to win FA Cup fina...\n",
      "3       U dun say so early hor... U c already then say...\n",
      "4       Nah I don't think he goes to usf, he lives aro...\n",
      "                              ...                        \n",
      "5567    This is the 2nd time we have tried 2 contact u...\n",
      "5568                 Will ü b going to esplanade fr home?\n",
      "5569    Pity, * was in mood for that. So...any other s...\n",
      "5570    The guy did some bitching but I acted like i'd...\n",
      "5571                           Rofl. Its true to its name\n",
      "Name: Message, Length: 5572, dtype: object\n"
     ]
    }
   ],
   "source": [
    "# let's print the values in x and y separately and see the content\n",
    "print(x)"
   ]
  },
  {
   "cell_type": "code",
   "execution_count": 16,
   "id": "df23dfba",
   "metadata": {},
   "outputs": [
    {
     "name": "stdout",
     "output_type": "stream",
     "text": [
      "0       1\n",
      "1       1\n",
      "2       0\n",
      "3       1\n",
      "4       1\n",
      "       ..\n",
      "5567    0\n",
      "5568    1\n",
      "5569    1\n",
      "5570    1\n",
      "5571    1\n",
      "Name: Category, Length: 5572, dtype: int64\n"
     ]
    }
   ],
   "source": [
    "print(y)"
   ]
  },
  {
   "cell_type": "code",
   "execution_count": null,
   "id": "94d36762",
   "metadata": {},
   "outputs": [],
   "source": []
  },
  {
   "cell_type": "markdown",
   "id": "3ad1d4c5",
   "metadata": {},
   "source": [
    "#Data Splitting"
   ]
  },
  {
   "cell_type": "code",
   "execution_count": 18,
   "id": "af0f4b8d",
   "metadata": {},
   "outputs": [],
   "source": [
    "# Now, let's split our x and y data into training and testing data using the train_test_split() function\n",
    "x_train, x_test, y_train, y_test =train_test_split(x,y,test_size=0.2, random_state=42)"
   ]
  },
  {
   "cell_type": "code",
   "execution_count": 19,
   "id": "9acddf2d",
   "metadata": {},
   "outputs": [
    {
     "data": {
      "text/plain": [
       "(4457,)"
      ]
     },
     "execution_count": 19,
     "metadata": {},
     "output_type": "execute_result"
    }
   ],
   "source": [
    "# After the splitting, let's print the shape of the x_train, x_test and y_train, y_test\n",
    "x_train.shape"
   ]
  },
  {
   "cell_type": "code",
   "execution_count": 20,
   "id": "a96fb0f5",
   "metadata": {},
   "outputs": [
    {
     "data": {
      "text/plain": [
       "(1115,)"
      ]
     },
     "execution_count": 20,
     "metadata": {},
     "output_type": "execute_result"
    }
   ],
   "source": [
    "x_test.shape"
   ]
  },
  {
   "cell_type": "code",
   "execution_count": 21,
   "id": "230e7c74",
   "metadata": {},
   "outputs": [
    {
     "data": {
      "text/plain": [
       "(4457,)"
      ]
     },
     "execution_count": 21,
     "metadata": {},
     "output_type": "execute_result"
    }
   ],
   "source": [
    "y_train.shape"
   ]
  },
  {
   "cell_type": "code",
   "execution_count": 22,
   "id": "9e1d16d7",
   "metadata": {},
   "outputs": [
    {
     "data": {
      "text/plain": [
       "(1115,)"
      ]
     },
     "execution_count": 22,
     "metadata": {},
     "output_type": "execute_result"
    }
   ],
   "source": [
    "y_test.shape"
   ]
  },
  {
   "cell_type": "code",
   "execution_count": 24,
   "id": "29122aaa",
   "metadata": {},
   "outputs": [],
   "source": [
    "# Now, let us convert our text data stored in the variable x to numerical data using the TfidfVectorizer\n",
    "convert_message_text= TfidfVectorizer(min_df=1, stop_words='english', lowercase=True)"
   ]
  },
  {
   "cell_type": "code",
   "execution_count": 26,
   "id": "69955d58",
   "metadata": {},
   "outputs": [],
   "source": [
    "x_train_converted=convert_message_text.fit_transform(x_train)\n",
    "x_test_converted=convert_message_text.transform(x_test)"
   ]
  },
  {
   "cell_type": "markdown",
   "id": "4e0fa5e4",
   "metadata": {},
   "source": [
    "Now, let's print the values in x_train_converted and\n",
    "x_test_converted as see if the values are converted into numerical data"
   ]
  },
  {
   "cell_type": "code",
   "execution_count": 27,
   "id": "f1843780",
   "metadata": {},
   "outputs": [
    {
     "name": "stdout",
     "output_type": "stream",
     "text": [
      "  (0, 5818)\t0.22682143517864364\n",
      "  (0, 2497)\t0.2442158912653505\n",
      "  (0, 694)\t0.3171299579602537\n",
      "  (0, 6264)\t0.1898892037332199\n",
      "  (0, 5800)\t0.17558937755823417\n",
      "  (0, 3262)\t0.33791755486732394\n",
      "  (0, 2049)\t0.3034375179183143\n",
      "  (0, 7300)\t0.24288153842988894\n",
      "  (0, 2724)\t0.3544175987866074\n",
      "  (0, 354)\t0.3544175987866074\n",
      "  (0, 7162)\t0.2550284465664535\n",
      "  (0, 258)\t0.2379428657041507\n",
      "  (0, 7222)\t0.2173884735352799\n",
      "  (0, 5512)\t0.1898892037332199\n",
      "  (1, 2555)\t0.3840709491751004\n",
      "  (1, 3804)\t0.1902902346515268\n",
      "  (1, 3932)\t0.24325511357721427\n",
      "  (1, 4509)\t0.4028245991060671\n",
      "  (1, 2440)\t0.33870544648398715\n",
      "  (1, 3333)\t0.20665394084233096\n",
      "  (1, 5650)\t0.360444144470318\n",
      "  (1, 2335)\t0.2162321275166079\n",
      "  (1, 6738)\t0.28986069568918\n",
      "  (1, 6109)\t0.3239762634465801\n",
      "  (1, 3267)\t0.2678713077029217\n",
      "  :\t:\n",
      "  (4452, 2438)\t0.4574160733416501\n",
      "  (4452, 7280)\t0.3968991650168732\n",
      "  (4452, 3978)\t0.4574160733416501\n",
      "  (4452, 3290)\t0.26370969643076225\n",
      "  (4452, 3084)\t0.22948428918295163\n",
      "  (4452, 2236)\t0.2676662072392096\n",
      "  (4453, 3874)\t0.6064947019588056\n",
      "  (4453, 4004)\t0.5244851817485773\n",
      "  (4453, 6108)\t0.5975612693457145\n",
      "  (4454, 6113)\t0.4465347909835087\n",
      "  (4454, 6114)\t0.4465347909835087\n",
      "  (4454, 5149)\t0.43410473161397095\n",
      "  (4454, 5409)\t0.4079234999314281\n",
      "  (4454, 3249)\t0.3182708584577292\n",
      "  (4454, 2893)\t0.38087861810984514\n",
      "  (4455, 5815)\t0.5332274226200294\n",
      "  (4455, 3691)\t0.5541750775894743\n",
      "  (4455, 4660)\t0.4924788339394118\n",
      "  (4455, 6686)\t0.40745931976870786\n",
      "  (4456, 4518)\t0.5364209818026567\n",
      "  (4456, 6078)\t0.46545159250664164\n",
      "  (4456, 6467)\t0.48168628392630153\n",
      "  (4456, 5719)\t0.3276287995831882\n",
      "  (4456, 2236)\t0.31389751705425334\n",
      "  (4456, 3720)\t0.24023610815826446\n"
     ]
    }
   ],
   "source": [
    "# Printing the value in x_train_converted\n",
    "print(x_train_converted)"
   ]
  },
  {
   "cell_type": "code",
   "execution_count": 28,
   "id": "6265ff53",
   "metadata": {},
   "outputs": [
    {
     "name": "stdout",
     "output_type": "stream",
     "text": [
      "  (0, 4942)\t0.2260795967233104\n",
      "  (0, 4100)\t0.2783653715582127\n",
      "  (0, 3955)\t0.30969913392437864\n",
      "  (0, 3395)\t0.6599992933708911\n",
      "  (0, 3225)\t0.32999964668544557\n",
      "  (0, 2173)\t0.24736140852983116\n",
      "  (0, 2065)\t0.29632752800743906\n",
      "  (0, 1751)\t0.2863401438180079\n",
      "  (1, 7158)\t0.3981347747267476\n",
      "  (1, 6986)\t0.2493471978387002\n",
      "  (1, 6642)\t0.326271353777915\n",
      "  (1, 6544)\t0.2204999931204713\n",
      "  (1, 5430)\t0.387052012561607\n",
      "  (1, 4044)\t0.3234324946551934\n",
      "  (1, 3443)\t0.3234324946551934\n",
      "  (1, 1975)\t0.3578586983359201\n",
      "  (1, 1361)\t0.37034060973735533\n",
      "  (2, 6570)\t0.2671012270734155\n",
      "  (2, 5597)\t0.38473841792677693\n",
      "  (2, 4369)\t0.37140936745963093\n",
      "  (2, 3510)\t0.35262312595844614\n",
      "  (2, 3084)\t0.19302212472396826\n",
      "  (2, 3067)\t0.19302212472396826\n",
      "  (2, 2377)\t0.37140936745963093\n",
      "  (2, 1292)\t0.5530689808395817\n",
      "  :\t:\n",
      "  (1110, 6142)\t0.184212737624403\n",
      "  (1110, 5204)\t0.20379483330125558\n",
      "  (1110, 4806)\t0.21000774387718502\n",
      "  (1110, 4497)\t0.4617602822459726\n",
      "  (1110, 4105)\t0.19205506803469924\n",
      "  (1110, 3938)\t0.19408816272334495\n",
      "  (1110, 3180)\t0.28321732903206603\n",
      "  (1110, 3084)\t0.1354742748210557\n",
      "  (1110, 2749)\t0.19108428181801027\n",
      "  (1110, 2437)\t0.3925137888208102\n",
      "  (1110, 2380)\t0.27003204031127404\n",
      "  (1110, 2173)\t0.20241084046750546\n",
      "  (1110, 2064)\t0.22778075670341405\n",
      "  (1111, 7095)\t0.36365496598104324\n",
      "  (1111, 3724)\t0.42134339857243075\n",
      "  (1111, 3258)\t0.45132488164412626\n",
      "  (1111, 2425)\t0.4088782922446393\n",
      "  (1111, 2410)\t0.36365496598104324\n",
      "  (1111, 1524)\t0.4325555054026121\n",
      "  (1112, 7390)\t0.42586219706493256\n",
      "  (1112, 6550)\t0.691531900174862\n",
      "  (1112, 4351)\t0.5834595274323433\n",
      "  (1113, 5796)\t0.6364310164851212\n",
      "  (1113, 1600)\t0.48856109936052156\n",
      "  (1113, 1472)\t0.5968782232979806\n"
     ]
    }
   ],
   "source": [
    "# Printing the value in x_test_converted\n",
    "print(x_test_converted)"
   ]
  },
  {
   "cell_type": "code",
   "execution_count": 29,
   "id": "9ebbbd6a",
   "metadata": {},
   "outputs": [],
   "source": [
    "# lets' convert the values in our y variable into integer. Although it's already in form of 0's and 1's but\n",
    "# the system still reads it as string not integer\n",
    "y_train = y_train.astype('int')\n",
    "y_test = y_test.astype('int')"
   ]
  },
  {
   "cell_type": "markdown",
   "id": "b59fd10e",
   "metadata": {},
   "source": [
    "Training the Decision Tree Classifier Model for Prediction"
   ]
  },
  {
   "cell_type": "code",
   "execution_count": 38,
   "id": "aed18527",
   "metadata": {},
   "outputs": [
    {
     "data": {
      "text/html": [
       "<style>#sk-container-id-3 {color: black;}#sk-container-id-3 pre{padding: 0;}#sk-container-id-3 div.sk-toggleable {background-color: white;}#sk-container-id-3 label.sk-toggleable__label {cursor: pointer;display: block;width: 100%;margin-bottom: 0;padding: 0.3em;box-sizing: border-box;text-align: center;}#sk-container-id-3 label.sk-toggleable__label-arrow:before {content: \"▸\";float: left;margin-right: 0.25em;color: #696969;}#sk-container-id-3 label.sk-toggleable__label-arrow:hover:before {color: black;}#sk-container-id-3 div.sk-estimator:hover label.sk-toggleable__label-arrow:before {color: black;}#sk-container-id-3 div.sk-toggleable__content {max-height: 0;max-width: 0;overflow: hidden;text-align: left;background-color: #f0f8ff;}#sk-container-id-3 div.sk-toggleable__content pre {margin: 0.2em;color: black;border-radius: 0.25em;background-color: #f0f8ff;}#sk-container-id-3 input.sk-toggleable__control:checked~div.sk-toggleable__content {max-height: 200px;max-width: 100%;overflow: auto;}#sk-container-id-3 input.sk-toggleable__control:checked~label.sk-toggleable__label-arrow:before {content: \"▾\";}#sk-container-id-3 div.sk-estimator input.sk-toggleable__control:checked~label.sk-toggleable__label {background-color: #d4ebff;}#sk-container-id-3 div.sk-label input.sk-toggleable__control:checked~label.sk-toggleable__label {background-color: #d4ebff;}#sk-container-id-3 input.sk-hidden--visually {border: 0;clip: rect(1px 1px 1px 1px);clip: rect(1px, 1px, 1px, 1px);height: 1px;margin: -1px;overflow: hidden;padding: 0;position: absolute;width: 1px;}#sk-container-id-3 div.sk-estimator {font-family: monospace;background-color: #f0f8ff;border: 1px dotted black;border-radius: 0.25em;box-sizing: border-box;margin-bottom: 0.5em;}#sk-container-id-3 div.sk-estimator:hover {background-color: #d4ebff;}#sk-container-id-3 div.sk-parallel-item::after {content: \"\";width: 100%;border-bottom: 1px solid gray;flex-grow: 1;}#sk-container-id-3 div.sk-label:hover label.sk-toggleable__label {background-color: #d4ebff;}#sk-container-id-3 div.sk-serial::before {content: \"\";position: absolute;border-left: 1px solid gray;box-sizing: border-box;top: 0;bottom: 0;left: 50%;z-index: 0;}#sk-container-id-3 div.sk-serial {display: flex;flex-direction: column;align-items: center;background-color: white;padding-right: 0.2em;padding-left: 0.2em;position: relative;}#sk-container-id-3 div.sk-item {position: relative;z-index: 1;}#sk-container-id-3 div.sk-parallel {display: flex;align-items: stretch;justify-content: center;background-color: white;position: relative;}#sk-container-id-3 div.sk-item::before, #sk-container-id-3 div.sk-parallel-item::before {content: \"\";position: absolute;border-left: 1px solid gray;box-sizing: border-box;top: 0;bottom: 0;left: 50%;z-index: -1;}#sk-container-id-3 div.sk-parallel-item {display: flex;flex-direction: column;z-index: 1;position: relative;background-color: white;}#sk-container-id-3 div.sk-parallel-item:first-child::after {align-self: flex-end;width: 50%;}#sk-container-id-3 div.sk-parallel-item:last-child::after {align-self: flex-start;width: 50%;}#sk-container-id-3 div.sk-parallel-item:only-child::after {width: 0;}#sk-container-id-3 div.sk-dashed-wrapped {border: 1px dashed gray;margin: 0 0.4em 0.5em 0.4em;box-sizing: border-box;padding-bottom: 0.4em;background-color: white;}#sk-container-id-3 div.sk-label label {font-family: monospace;font-weight: bold;display: inline-block;line-height: 1.2em;}#sk-container-id-3 div.sk-label-container {text-align: center;}#sk-container-id-3 div.sk-container {/* jupyter's `normalize.less` sets `[hidden] { display: none; }` but bootstrap.min.css set `[hidden] { display: none !important; }` so we also need the `!important` here to be able to override the default hidden behavior on the sphinx rendered scikit-learn.org. See: https://github.com/scikit-learn/scikit-learn/issues/21755 */display: inline-block !important;position: relative;}#sk-container-id-3 div.sk-text-repr-fallback {display: none;}</style><div id=\"sk-container-id-3\" class=\"sk-top-container\"><div class=\"sk-text-repr-fallback\"><pre>DecisionTreeClassifier()</pre><b>In a Jupyter environment, please rerun this cell to show the HTML representation or trust the notebook. <br />On GitHub, the HTML representation is unable to render, please try loading this page with nbviewer.org.</b></div><div class=\"sk-container\" hidden><div class=\"sk-item\"><div class=\"sk-estimator sk-toggleable\"><input class=\"sk-toggleable__control sk-hidden--visually\" id=\"sk-estimator-id-3\" type=\"checkbox\" checked><label for=\"sk-estimator-id-3\" class=\"sk-toggleable__label sk-toggleable__label-arrow\">DecisionTreeClassifier</label><div class=\"sk-toggleable__content\"><pre>DecisionTreeClassifier()</pre></div></div></div></div></div>"
      ],
      "text/plain": [
       "DecisionTreeClassifier()"
      ]
     },
     "execution_count": 38,
     "metadata": {},
     "output_type": "execute_result"
    }
   ],
   "source": [
    "model1 =DecisionTreeClassifier()\n",
    "model1.fit(x_train_converted,y_train )"
   ]
  },
  {
   "cell_type": "code",
   "execution_count": 39,
   "id": "fb128e33",
   "metadata": {},
   "outputs": [],
   "source": [
    "# Carrying out prediction on the train data using the decision tree classifier\n",
    "train_data_prediction=model1.predict(x_train_converted)"
   ]
  },
  {
   "cell_type": "markdown",
   "id": "9822c836",
   "metadata": {},
   "source": [
    "Carrying Out Model's Performance Evaluation\n",
    "\n",
    "since this is a binary classification problem, we will use the accuracy score metrics to evaluate the accuaracy level of \n",
    "our machine learning model using the accuracy_score function that we imported in line 6 of this project."
   ]
  },
  {
   "cell_type": "code",
   "execution_count": 40,
   "id": "17bec8eb",
   "metadata": {},
   "outputs": [
    {
     "name": "stdout",
     "output_type": "stream",
     "text": [
      "The accuracy for the training data using decision tress classifier is:  1.0\n"
     ]
    }
   ],
   "source": [
    "accuracy_decision_train = accuracy_score(y_train, train_data_prediction)\n",
    "\n",
    "print('The accuracy for the training data using decision tress classifier is: ', accuracy_decision_train)"
   ]
  },
  {
   "cell_type": "markdown",
   "id": "0dedff70",
   "metadata": {},
   "source": [
    "As we can see using the accuracy score to evaluate our model, it gives 1.0 as the percentage which means 100%. This is a very good model since its having 100% accuracy.Note: this is the accuracy result for the training data using the Descision Tree Classifier algorithm"
   ]
  },
  {
   "cell_type": "code",
   "execution_count": 41,
   "id": "5844a114",
   "metadata": {},
   "outputs": [
    {
     "name": "stdout",
     "output_type": "stream",
     "text": [
      "The cross validation score for each fold is: [0.97309417 0.94618834 0.9674523  0.95398429 0.95959596]\n"
     ]
    }
   ],
   "source": [
    "# now let's run cross validation on the model\n",
    "# to ascertain if we will still obtain 100% accuracy\n",
    "from sklearn.model_selection import KFold\n",
    "from sklearn.model_selection import cross_val_score\n",
    "\n",
    "k = 5\n",
    "scores = cross_val_score(model1, x_train_converted, y_train, cv=k)\n",
    "\n",
    "print(\"The cross validation score for each fold is:\", scores)"
   ]
  },
  {
   "cell_type": "markdown",
   "id": "033d582f",
   "metadata": {},
   "source": [
    "We can see that the cross validation score on the training data using the Decision Tree Classifier Algorithm for 5 Folds are: 97%, 94%, 96%, 95% and 96%. The result of the validation test although it's not 100% as the accuracy score metrics, still shows that the model is perfect for making good predictions"
   ]
  },
  {
   "cell_type": "code",
   "execution_count": 42,
   "id": "d144f5f5",
   "metadata": {},
   "outputs": [
    {
     "name": "stdout",
     "output_type": "stream",
     "text": [
      "The accuracy for the test data using decision tress classifier is:  0.9704035874439462\n"
     ]
    }
   ],
   "source": [
    "# Carrying out prediction on the test data using the decision tree classifier\n",
    "test_data_prediction=model1.predict(x_test_converted)\n",
    "\n",
    "accuracy_decision_test = accuracy_score(y_test, test_data_prediction)\n",
    "\n",
    "print('The accuracy for the test data using decision tress classifier is: ', accuracy_decision_test)"
   ]
  },
  {
   "cell_type": "markdown",
   "id": "dac1fcb4",
   "metadata": {},
   "source": [
    "The result of the accuracy test on the test data shows 96%. This is an excellent score because the difference between this result and that of the training data is not much. However, in a situation where there is a big range between both scores it indicates that the model is over fitted"
   ]
  },
  {
   "cell_type": "markdown",
   "id": "9bb5d38b",
   "metadata": {},
   "source": [
    "EVALUATION THE DECISION TREE MODEL USING PRECISION SCORE METRICS"
   ]
  },
  {
   "cell_type": "code",
   "execution_count": 43,
   "id": "e43e8c2a",
   "metadata": {},
   "outputs": [
    {
     "name": "stdout",
     "output_type": "stream",
     "text": [
      "The precision score for Decision Tree test dataset is 0.98\n"
     ]
    }
   ],
   "source": [
    "precision=precision_score(y_test, test_data_prediction)\n",
    "\n",
    "print('The precision score for Decision Tree test dataset is', precision.round(2))"
   ]
  },
  {
   "cell_type": "markdown",
   "id": "055aba13",
   "metadata": {},
   "source": [
    "EVALUATION THE DECISION TREE MODEL USING RECALL METRICS"
   ]
  },
  {
   "cell_type": "code",
   "execution_count": 44,
   "id": "3d410135",
   "metadata": {},
   "outputs": [
    {
     "name": "stdout",
     "output_type": "stream",
     "text": [
      "The recall score for Decision Tree test dataset is 0.98\n"
     ]
    }
   ],
   "source": [
    "re_score=recall_score(y_test, test_data_prediction)\n",
    "\n",
    "print('The recall score for Decision Tree test dataset is', precision.round(2))"
   ]
  },
  {
   "cell_type": "markdown",
   "id": "a748b79b",
   "metadata": {},
   "source": [
    "using the Support Vector Machine Classifier for Prediction"
   ]
  },
  {
   "cell_type": "code",
   "execution_count": 45,
   "id": "a9f7afde",
   "metadata": {},
   "outputs": [
    {
     "data": {
      "text/html": [
       "<style>#sk-container-id-4 {color: black;}#sk-container-id-4 pre{padding: 0;}#sk-container-id-4 div.sk-toggleable {background-color: white;}#sk-container-id-4 label.sk-toggleable__label {cursor: pointer;display: block;width: 100%;margin-bottom: 0;padding: 0.3em;box-sizing: border-box;text-align: center;}#sk-container-id-4 label.sk-toggleable__label-arrow:before {content: \"▸\";float: left;margin-right: 0.25em;color: #696969;}#sk-container-id-4 label.sk-toggleable__label-arrow:hover:before {color: black;}#sk-container-id-4 div.sk-estimator:hover label.sk-toggleable__label-arrow:before {color: black;}#sk-container-id-4 div.sk-toggleable__content {max-height: 0;max-width: 0;overflow: hidden;text-align: left;background-color: #f0f8ff;}#sk-container-id-4 div.sk-toggleable__content pre {margin: 0.2em;color: black;border-radius: 0.25em;background-color: #f0f8ff;}#sk-container-id-4 input.sk-toggleable__control:checked~div.sk-toggleable__content {max-height: 200px;max-width: 100%;overflow: auto;}#sk-container-id-4 input.sk-toggleable__control:checked~label.sk-toggleable__label-arrow:before {content: \"▾\";}#sk-container-id-4 div.sk-estimator input.sk-toggleable__control:checked~label.sk-toggleable__label {background-color: #d4ebff;}#sk-container-id-4 div.sk-label input.sk-toggleable__control:checked~label.sk-toggleable__label {background-color: #d4ebff;}#sk-container-id-4 input.sk-hidden--visually {border: 0;clip: rect(1px 1px 1px 1px);clip: rect(1px, 1px, 1px, 1px);height: 1px;margin: -1px;overflow: hidden;padding: 0;position: absolute;width: 1px;}#sk-container-id-4 div.sk-estimator {font-family: monospace;background-color: #f0f8ff;border: 1px dotted black;border-radius: 0.25em;box-sizing: border-box;margin-bottom: 0.5em;}#sk-container-id-4 div.sk-estimator:hover {background-color: #d4ebff;}#sk-container-id-4 div.sk-parallel-item::after {content: \"\";width: 100%;border-bottom: 1px solid gray;flex-grow: 1;}#sk-container-id-4 div.sk-label:hover label.sk-toggleable__label {background-color: #d4ebff;}#sk-container-id-4 div.sk-serial::before {content: \"\";position: absolute;border-left: 1px solid gray;box-sizing: border-box;top: 0;bottom: 0;left: 50%;z-index: 0;}#sk-container-id-4 div.sk-serial {display: flex;flex-direction: column;align-items: center;background-color: white;padding-right: 0.2em;padding-left: 0.2em;position: relative;}#sk-container-id-4 div.sk-item {position: relative;z-index: 1;}#sk-container-id-4 div.sk-parallel {display: flex;align-items: stretch;justify-content: center;background-color: white;position: relative;}#sk-container-id-4 div.sk-item::before, #sk-container-id-4 div.sk-parallel-item::before {content: \"\";position: absolute;border-left: 1px solid gray;box-sizing: border-box;top: 0;bottom: 0;left: 50%;z-index: -1;}#sk-container-id-4 div.sk-parallel-item {display: flex;flex-direction: column;z-index: 1;position: relative;background-color: white;}#sk-container-id-4 div.sk-parallel-item:first-child::after {align-self: flex-end;width: 50%;}#sk-container-id-4 div.sk-parallel-item:last-child::after {align-self: flex-start;width: 50%;}#sk-container-id-4 div.sk-parallel-item:only-child::after {width: 0;}#sk-container-id-4 div.sk-dashed-wrapped {border: 1px dashed gray;margin: 0 0.4em 0.5em 0.4em;box-sizing: border-box;padding-bottom: 0.4em;background-color: white;}#sk-container-id-4 div.sk-label label {font-family: monospace;font-weight: bold;display: inline-block;line-height: 1.2em;}#sk-container-id-4 div.sk-label-container {text-align: center;}#sk-container-id-4 div.sk-container {/* jupyter's `normalize.less` sets `[hidden] { display: none; }` but bootstrap.min.css set `[hidden] { display: none !important; }` so we also need the `!important` here to be able to override the default hidden behavior on the sphinx rendered scikit-learn.org. See: https://github.com/scikit-learn/scikit-learn/issues/21755 */display: inline-block !important;position: relative;}#sk-container-id-4 div.sk-text-repr-fallback {display: none;}</style><div id=\"sk-container-id-4\" class=\"sk-top-container\"><div class=\"sk-text-repr-fallback\"><pre>SVC(kernel=&#x27;poly&#x27;)</pre><b>In a Jupyter environment, please rerun this cell to show the HTML representation or trust the notebook. <br />On GitHub, the HTML representation is unable to render, please try loading this page with nbviewer.org.</b></div><div class=\"sk-container\" hidden><div class=\"sk-item\"><div class=\"sk-estimator sk-toggleable\"><input class=\"sk-toggleable__control sk-hidden--visually\" id=\"sk-estimator-id-4\" type=\"checkbox\" checked><label for=\"sk-estimator-id-4\" class=\"sk-toggleable__label sk-toggleable__label-arrow\">SVC</label><div class=\"sk-toggleable__content\"><pre>SVC(kernel=&#x27;poly&#x27;)</pre></div></div></div></div></div>"
      ],
      "text/plain": [
       "SVC(kernel='poly')"
      ]
     },
     "execution_count": 45,
     "metadata": {},
     "output_type": "execute_result"
    }
   ],
   "source": [
    "model2= svm.SVC(kernel='poly')\n",
    "model2.fit(x_train_converted,y_train)"
   ]
  },
  {
   "cell_type": "code",
   "execution_count": 46,
   "id": "d79a3dd1",
   "metadata": {},
   "outputs": [
    {
     "name": "stdout",
     "output_type": "stream",
     "text": [
      "The accuracy for the training data using support vector classifier is:  1.0\n"
     ]
    }
   ],
   "source": [
    "# Train data Prediction\n",
    "model2_train_data_pred =model2.predict(x_train_converted)\n",
    "\n",
    "accuracy_model2_train = accuracy_score(y_train, model2_train_data_pred)\n",
    "\n",
    "print('The accuracy for the training data using support vector classifier is: ', accuracy_model2_train)"
   ]
  },
  {
   "cell_type": "markdown",
   "id": "65c697da",
   "metadata": {},
   "source": [
    "The SVC model gives us 100% accuracy on the train data. This is also a perfect result. Since the result of the SVC is same as the Decision Tree Classifier, let's also run a validation test to see what the validation result will be for the SVC model."
   ]
  },
  {
   "cell_type": "code",
   "execution_count": 48,
   "id": "72837ac2",
   "metadata": {},
   "outputs": [
    {
     "name": "stdout",
     "output_type": "stream",
     "text": [
      "The cross validation score for each fold is: [0.92193809 0.92328398 0.93405114 0.91251682 0.9179004  0.91778976]\n"
     ]
    }
   ],
   "source": [
    "#using the cross validation score \n",
    "k = 6\n",
    "valScores = cross_val_score(model2, x_train_converted, y_train, cv=k)\n",
    "\n",
    "print(\"The cross validation score for each fold is:\",valScores)"
   ]
  },
  {
   "cell_type": "markdown",
   "id": "44b09f21",
   "metadata": {},
   "source": [
    "The cross validation result using the SVC model with k=6 gives the result of: 92%,92%,93%,91%,91% and 91% respectively. Machine learning with the Prediction accuracy of 90% and above is said to be acceptable for deployment. In our case, our model is perfectly trained"
   ]
  },
  {
   "cell_type": "code",
   "execution_count": 49,
   "id": "b2bdd6fa",
   "metadata": {},
   "outputs": [
    {
     "name": "stdout",
     "output_type": "stream",
     "text": [
      "The accuracy for the test data using SVC model is: 0.9452914798206278\n"
     ]
    }
   ],
   "source": [
    "# Test data prediction using the SVC\n",
    "model2_test_data_pred=model2.predict(x_test_converted)\n",
    "\n",
    "accuracy_model2_test = accuracy_score(y_test, model2_test_data_pred)\n",
    "\n",
    "print('The accuracy for the test data using SVC model is:', accuracy_model2_test   )"
   ]
  },
  {
   "cell_type": "markdown",
   "id": "e3e9d17a",
   "metadata": {},
   "source": [
    "The accuracy score for the test data using SVC algorithm is 94%. This is also perfect for Prediction."
   ]
  },
  {
   "cell_type": "code",
   "execution_count": null,
   "id": "cb3fea58",
   "metadata": {},
   "outputs": [],
   "source": []
  },
  {
   "cell_type": "markdown",
   "id": "9bcd5354",
   "metadata": {},
   "source": [
    "Training the Model Using Logistic Regression Algorithm"
   ]
  },
  {
   "cell_type": "code",
   "execution_count": 50,
   "id": "f4139267",
   "metadata": {},
   "outputs": [
    {
     "data": {
      "text/html": [
       "<style>#sk-container-id-5 {color: black;}#sk-container-id-5 pre{padding: 0;}#sk-container-id-5 div.sk-toggleable {background-color: white;}#sk-container-id-5 label.sk-toggleable__label {cursor: pointer;display: block;width: 100%;margin-bottom: 0;padding: 0.3em;box-sizing: border-box;text-align: center;}#sk-container-id-5 label.sk-toggleable__label-arrow:before {content: \"▸\";float: left;margin-right: 0.25em;color: #696969;}#sk-container-id-5 label.sk-toggleable__label-arrow:hover:before {color: black;}#sk-container-id-5 div.sk-estimator:hover label.sk-toggleable__label-arrow:before {color: black;}#sk-container-id-5 div.sk-toggleable__content {max-height: 0;max-width: 0;overflow: hidden;text-align: left;background-color: #f0f8ff;}#sk-container-id-5 div.sk-toggleable__content pre {margin: 0.2em;color: black;border-radius: 0.25em;background-color: #f0f8ff;}#sk-container-id-5 input.sk-toggleable__control:checked~div.sk-toggleable__content {max-height: 200px;max-width: 100%;overflow: auto;}#sk-container-id-5 input.sk-toggleable__control:checked~label.sk-toggleable__label-arrow:before {content: \"▾\";}#sk-container-id-5 div.sk-estimator input.sk-toggleable__control:checked~label.sk-toggleable__label {background-color: #d4ebff;}#sk-container-id-5 div.sk-label input.sk-toggleable__control:checked~label.sk-toggleable__label {background-color: #d4ebff;}#sk-container-id-5 input.sk-hidden--visually {border: 0;clip: rect(1px 1px 1px 1px);clip: rect(1px, 1px, 1px, 1px);height: 1px;margin: -1px;overflow: hidden;padding: 0;position: absolute;width: 1px;}#sk-container-id-5 div.sk-estimator {font-family: monospace;background-color: #f0f8ff;border: 1px dotted black;border-radius: 0.25em;box-sizing: border-box;margin-bottom: 0.5em;}#sk-container-id-5 div.sk-estimator:hover {background-color: #d4ebff;}#sk-container-id-5 div.sk-parallel-item::after {content: \"\";width: 100%;border-bottom: 1px solid gray;flex-grow: 1;}#sk-container-id-5 div.sk-label:hover label.sk-toggleable__label {background-color: #d4ebff;}#sk-container-id-5 div.sk-serial::before {content: \"\";position: absolute;border-left: 1px solid gray;box-sizing: border-box;top: 0;bottom: 0;left: 50%;z-index: 0;}#sk-container-id-5 div.sk-serial {display: flex;flex-direction: column;align-items: center;background-color: white;padding-right: 0.2em;padding-left: 0.2em;position: relative;}#sk-container-id-5 div.sk-item {position: relative;z-index: 1;}#sk-container-id-5 div.sk-parallel {display: flex;align-items: stretch;justify-content: center;background-color: white;position: relative;}#sk-container-id-5 div.sk-item::before, #sk-container-id-5 div.sk-parallel-item::before {content: \"\";position: absolute;border-left: 1px solid gray;box-sizing: border-box;top: 0;bottom: 0;left: 50%;z-index: -1;}#sk-container-id-5 div.sk-parallel-item {display: flex;flex-direction: column;z-index: 1;position: relative;background-color: white;}#sk-container-id-5 div.sk-parallel-item:first-child::after {align-self: flex-end;width: 50%;}#sk-container-id-5 div.sk-parallel-item:last-child::after {align-self: flex-start;width: 50%;}#sk-container-id-5 div.sk-parallel-item:only-child::after {width: 0;}#sk-container-id-5 div.sk-dashed-wrapped {border: 1px dashed gray;margin: 0 0.4em 0.5em 0.4em;box-sizing: border-box;padding-bottom: 0.4em;background-color: white;}#sk-container-id-5 div.sk-label label {font-family: monospace;font-weight: bold;display: inline-block;line-height: 1.2em;}#sk-container-id-5 div.sk-label-container {text-align: center;}#sk-container-id-5 div.sk-container {/* jupyter's `normalize.less` sets `[hidden] { display: none; }` but bootstrap.min.css set `[hidden] { display: none !important; }` so we also need the `!important` here to be able to override the default hidden behavior on the sphinx rendered scikit-learn.org. See: https://github.com/scikit-learn/scikit-learn/issues/21755 */display: inline-block !important;position: relative;}#sk-container-id-5 div.sk-text-repr-fallback {display: none;}</style><div id=\"sk-container-id-5\" class=\"sk-top-container\"><div class=\"sk-text-repr-fallback\"><pre>LogisticRegression()</pre><b>In a Jupyter environment, please rerun this cell to show the HTML representation or trust the notebook. <br />On GitHub, the HTML representation is unable to render, please try loading this page with nbviewer.org.</b></div><div class=\"sk-container\" hidden><div class=\"sk-item\"><div class=\"sk-estimator sk-toggleable\"><input class=\"sk-toggleable__control sk-hidden--visually\" id=\"sk-estimator-id-5\" type=\"checkbox\" checked><label for=\"sk-estimator-id-5\" class=\"sk-toggleable__label sk-toggleable__label-arrow\">LogisticRegression</label><div class=\"sk-toggleable__content\"><pre>LogisticRegression()</pre></div></div></div></div></div>"
      ],
      "text/plain": [
       "LogisticRegression()"
      ]
     },
     "execution_count": 50,
     "metadata": {},
     "output_type": "execute_result"
    }
   ],
   "source": [
    "model3=LogisticRegression()\n",
    "model3.fit(x_train_converted,y_train )"
   ]
  },
  {
   "cell_type": "code",
   "execution_count": 51,
   "id": "c983f4c1",
   "metadata": {},
   "outputs": [
    {
     "name": "stdout",
     "output_type": "stream",
     "text": [
      "The accuracy for the training data using logistic Regression is: 1.0\n"
     ]
    }
   ],
   "source": [
    "# Train data Prediction\n",
    "model3_train_data_pred =model2.predict(x_train_converted)\n",
    "\n",
    "accuracy_model3_train = accuracy_score(y_train, model3_train_data_pred)\n",
    "\n",
    "print('The accuracy for the training data using logistic Regression is:',accuracy_model3_train)"
   ]
  },
  {
   "cell_type": "markdown",
   "id": "fb73a6c8",
   "metadata": {},
   "source": [
    "The accuracy score on the training dataset using logistic Regression is also 100%"
   ]
  },
  {
   "cell_type": "code",
   "execution_count": 52,
   "id": "49b45218",
   "metadata": {},
   "outputs": [
    {
     "name": "stdout",
     "output_type": "stream",
     "text": [
      "The cross validation score for each fold is:  [0.95179372 0.93946188 0.94500561 0.94725028 0.93378227]\n"
     ]
    }
   ],
   "source": [
    "# let's also Carryout cross validation on the logistics Regression training set\n",
    "k = 5\n",
    "valScores2 = cross_val_score(model3, x_train_converted, y_train, cv=k)\n",
    "\n",
    "print(\"The cross validation score for each fold is: \",valScores2)"
   ]
  },
  {
   "cell_type": "markdown",
   "id": "c3e55fa9",
   "metadata": {},
   "source": [
    "The result of the cross validation shows 95%, 93%, 94%, 94% and 93% respectively. This validation test affirms that our logistics Regression model is also capable of giving a desire Prediction when deployment for real life usage."
   ]
  },
  {
   "cell_type": "code",
   "execution_count": 53,
   "id": "35347dc8",
   "metadata": {},
   "outputs": [
    {
     "name": "stdout",
     "output_type": "stream",
     "text": [
      "The accuracy for the test data using logistic  Regression model is: 0.967713004484305\n"
     ]
    }
   ],
   "source": [
    "#Test data prediction using the logistics Regression\n",
    "model3_test_data_pred=model3.predict(x_test_converted)\n",
    "\n",
    "accuracy_model3_test = accuracy_score(y_test, model3_test_data_pred)\n",
    "\n",
    "print('The accuracy for the test data using logistic  Regression model is:', accuracy_model3_test   )"
   ]
  },
  {
   "cell_type": "markdown",
   "id": "672b4a43",
   "metadata": {},
   "source": [
    "Logistics Regression model gives accuracy of 96% on the test data. An excellent result."
   ]
  },
  {
   "cell_type": "markdown",
   "id": "5c6f2615",
   "metadata": {},
   "source": [
    "Now let's compare the results of the three models. From our analysis, all the three Machine learning Algorithm used in training the dataset in this project (which are: Decision Tree Classifier, SVC and Logistics Regression, )gives 100% accuracy on training data. While on test data, Decision tree classifier gives 96% accuracy, SVC gives 94% accuracy and logistic Regression gives 96% accuracy. Since Decision tree classifier and Logistic Regression are producing the best inaccuracies, we will employ one of these model in building a Predictive System"
   ]
  },
  {
   "cell_type": "code",
   "execution_count": null,
   "id": "5df09956",
   "metadata": {},
   "outputs": [],
   "source": []
  },
  {
   "cell_type": "code",
   "execution_count": null,
   "id": "4fa6c822",
   "metadata": {},
   "outputs": [],
   "source": []
  },
  {
   "cell_type": "code",
   "execution_count": null,
   "id": "b8039e89",
   "metadata": {},
   "outputs": [],
   "source": []
  },
  {
   "cell_type": "code",
   "execution_count": null,
   "id": "a2e98197",
   "metadata": {},
   "outputs": [],
   "source": []
  },
  {
   "cell_type": "code",
   "execution_count": null,
   "id": "e93d3b13",
   "metadata": {},
   "outputs": [],
   "source": []
  },
  {
   "cell_type": "code",
   "execution_count": null,
   "id": "a8401e05",
   "metadata": {},
   "outputs": [],
   "source": []
  },
  {
   "cell_type": "code",
   "execution_count": null,
   "id": "dcc6a935",
   "metadata": {},
   "outputs": [],
   "source": []
  },
  {
   "cell_type": "code",
   "execution_count": null,
   "id": "23ba5061",
   "metadata": {},
   "outputs": [],
   "source": []
  },
  {
   "cell_type": "code",
   "execution_count": null,
   "id": "e89bddc1",
   "metadata": {},
   "outputs": [],
   "source": []
  },
  {
   "cell_type": "code",
   "execution_count": null,
   "id": "5d459e9d",
   "metadata": {},
   "outputs": [],
   "source": []
  },
  {
   "cell_type": "code",
   "execution_count": null,
   "id": "5c0adc2f",
   "metadata": {},
   "outputs": [],
   "source": []
  },
  {
   "cell_type": "code",
   "execution_count": null,
   "id": "c2c69c06",
   "metadata": {},
   "outputs": [],
   "source": []
  },
  {
   "cell_type": "code",
   "execution_count": null,
   "id": "a1a68c4d",
   "metadata": {},
   "outputs": [],
   "source": []
  },
  {
   "cell_type": "code",
   "execution_count": null,
   "id": "6e33f5e6",
   "metadata": {},
   "outputs": [],
   "source": []
  },
  {
   "cell_type": "code",
   "execution_count": null,
   "id": "ca043ac0",
   "metadata": {},
   "outputs": [],
   "source": []
  },
  {
   "cell_type": "code",
   "execution_count": null,
   "id": "a64bc70a",
   "metadata": {},
   "outputs": [],
   "source": []
  },
  {
   "cell_type": "code",
   "execution_count": null,
   "id": "0126fb5f",
   "metadata": {},
   "outputs": [],
   "source": []
  },
  {
   "cell_type": "code",
   "execution_count": null,
   "id": "2f8378f9",
   "metadata": {},
   "outputs": [],
   "source": []
  },
  {
   "cell_type": "code",
   "execution_count": null,
   "id": "01a72b55",
   "metadata": {},
   "outputs": [],
   "source": []
  },
  {
   "cell_type": "code",
   "execution_count": null,
   "id": "a989a6f5",
   "metadata": {},
   "outputs": [],
   "source": []
  },
  {
   "cell_type": "code",
   "execution_count": null,
   "id": "ecf1a03c",
   "metadata": {},
   "outputs": [],
   "source": []
  },
  {
   "cell_type": "code",
   "execution_count": null,
   "id": "729d88f5",
   "metadata": {},
   "outputs": [],
   "source": []
  },
  {
   "cell_type": "code",
   "execution_count": null,
   "id": "ceae0fdf",
   "metadata": {},
   "outputs": [],
   "source": []
  },
  {
   "cell_type": "code",
   "execution_count": null,
   "id": "c7ccc3c4",
   "metadata": {},
   "outputs": [],
   "source": []
  },
  {
   "cell_type": "code",
   "execution_count": null,
   "id": "2b207d7a",
   "metadata": {},
   "outputs": [],
   "source": []
  },
  {
   "cell_type": "code",
   "execution_count": null,
   "id": "d7d0409a",
   "metadata": {},
   "outputs": [],
   "source": []
  },
  {
   "cell_type": "code",
   "execution_count": null,
   "id": "09cc10e5",
   "metadata": {},
   "outputs": [],
   "source": []
  },
  {
   "cell_type": "code",
   "execution_count": null,
   "id": "0d21c9b2",
   "metadata": {},
   "outputs": [],
   "source": []
  },
  {
   "cell_type": "code",
   "execution_count": null,
   "id": "746e41bb",
   "metadata": {},
   "outputs": [],
   "source": []
  },
  {
   "cell_type": "code",
   "execution_count": null,
   "id": "783fdf6f",
   "metadata": {},
   "outputs": [],
   "source": []
  },
  {
   "cell_type": "code",
   "execution_count": null,
   "id": "ec40adbd",
   "metadata": {},
   "outputs": [],
   "source": []
  },
  {
   "cell_type": "code",
   "execution_count": null,
   "id": "d183ccb6",
   "metadata": {},
   "outputs": [],
   "source": []
  },
  {
   "cell_type": "code",
   "execution_count": null,
   "id": "e1b74827",
   "metadata": {},
   "outputs": [],
   "source": []
  },
  {
   "cell_type": "code",
   "execution_count": null,
   "id": "ce4b24d2",
   "metadata": {},
   "outputs": [],
   "source": []
  },
  {
   "cell_type": "code",
   "execution_count": null,
   "id": "ccea9999",
   "metadata": {},
   "outputs": [],
   "source": []
  },
  {
   "cell_type": "code",
   "execution_count": null,
   "id": "7b75da9a",
   "metadata": {},
   "outputs": [],
   "source": []
  },
  {
   "cell_type": "code",
   "execution_count": null,
   "id": "2623e612",
   "metadata": {},
   "outputs": [],
   "source": []
  },
  {
   "cell_type": "code",
   "execution_count": null,
   "id": "e9016913",
   "metadata": {},
   "outputs": [],
   "source": []
  },
  {
   "cell_type": "code",
   "execution_count": null,
   "id": "bd303060",
   "metadata": {},
   "outputs": [],
   "source": []
  },
  {
   "cell_type": "code",
   "execution_count": null,
   "id": "eb6548b1",
   "metadata": {},
   "outputs": [],
   "source": []
  },
  {
   "cell_type": "code",
   "execution_count": null,
   "id": "aecfe9d3",
   "metadata": {},
   "outputs": [],
   "source": []
  },
  {
   "cell_type": "code",
   "execution_count": null,
   "id": "62755a7d",
   "metadata": {},
   "outputs": [],
   "source": []
  },
  {
   "cell_type": "code",
   "execution_count": null,
   "id": "eaa38599",
   "metadata": {},
   "outputs": [],
   "source": []
  },
  {
   "cell_type": "code",
   "execution_count": null,
   "id": "e0b8de46",
   "metadata": {},
   "outputs": [],
   "source": []
  },
  {
   "cell_type": "code",
   "execution_count": null,
   "id": "ed241f13",
   "metadata": {},
   "outputs": [],
   "source": []
  },
  {
   "cell_type": "code",
   "execution_count": null,
   "id": "12bb250e",
   "metadata": {},
   "outputs": [],
   "source": []
  },
  {
   "cell_type": "code",
   "execution_count": null,
   "id": "87fd7541",
   "metadata": {},
   "outputs": [],
   "source": []
  },
  {
   "cell_type": "code",
   "execution_count": null,
   "id": "e96275ef",
   "metadata": {},
   "outputs": [],
   "source": []
  },
  {
   "cell_type": "code",
   "execution_count": null,
   "id": "4834eb5c",
   "metadata": {},
   "outputs": [],
   "source": []
  },
  {
   "cell_type": "code",
   "execution_count": null,
   "id": "c0a9f12f",
   "metadata": {},
   "outputs": [],
   "source": []
  },
  {
   "cell_type": "code",
   "execution_count": null,
   "id": "89a301e2",
   "metadata": {},
   "outputs": [],
   "source": []
  },
  {
   "cell_type": "code",
   "execution_count": null,
   "id": "988bb98b",
   "metadata": {},
   "outputs": [],
   "source": []
  },
  {
   "cell_type": "code",
   "execution_count": null,
   "id": "49235043",
   "metadata": {},
   "outputs": [],
   "source": []
  },
  {
   "cell_type": "code",
   "execution_count": null,
   "id": "5f13a368",
   "metadata": {},
   "outputs": [],
   "source": []
  },
  {
   "cell_type": "code",
   "execution_count": null,
   "id": "08fbfe2c",
   "metadata": {},
   "outputs": [],
   "source": []
  },
  {
   "cell_type": "code",
   "execution_count": null,
   "id": "ee7b329d",
   "metadata": {},
   "outputs": [],
   "source": []
  },
  {
   "cell_type": "code",
   "execution_count": null,
   "id": "023a192e",
   "metadata": {},
   "outputs": [],
   "source": []
  },
  {
   "cell_type": "code",
   "execution_count": null,
   "id": "5df8e2d5",
   "metadata": {},
   "outputs": [],
   "source": []
  },
  {
   "cell_type": "code",
   "execution_count": null,
   "id": "28341aeb",
   "metadata": {},
   "outputs": [],
   "source": []
  }
 ],
 "metadata": {
  "kernelspec": {
   "display_name": "Python 3 (ipykernel)",
   "language": "python",
   "name": "python3"
  },
  "language_info": {
   "codemirror_mode": {
    "name": "ipython",
    "version": 3
   },
   "file_extension": ".py",
   "mimetype": "text/x-python",
   "name": "python",
   "nbconvert_exporter": "python",
   "pygments_lexer": "ipython3",
   "version": "3.11.5"
  }
 },
 "nbformat": 4,
 "nbformat_minor": 5
}
